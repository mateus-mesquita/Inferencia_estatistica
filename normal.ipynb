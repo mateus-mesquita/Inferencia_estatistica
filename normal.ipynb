{
 "cells": [
  {
   "cell_type": "markdown",
   "id": "d273e194",
   "metadata": {},
   "source": [
    "### Distribuição Normal"
   ]
  },
  {
   "cell_type": "markdown",
   "id": "8a30731f",
   "metadata": {},
   "source": [
    "Dizemos que uma variável aleatória contínua X tem distribuição Normal da parâmetros $\\mu$ e $\\sigma^2$ se sua fdp é da forma:\n",
    "\n",
    "$$\n",
    "f(x) = \\frac{1}{\\sqrt(2\\pi\\sigma)} e^{\\frac{(x-\\mu)^2}{2\\sigma^2}}\n",
    "$$"
   ]
  },
  {
   "cell_type": "markdown",
   "id": "881c2cc9",
   "metadata": {},
   "source": [
    "$\\mu \\in R$ e $\\sigma^2 > 0$"
   ]
  },
  {
   "cell_type": "code",
   "execution_count": 1,
   "id": "ccd5100c",
   "metadata": {},
   "outputs": [],
   "source": [
    "# Importando bibliotecas necessárias\n",
    "import numpy as np\n",
    "from scipy.stats import norm"
   ]
  },
  {
   "cell_type": "markdown",
   "id": "7038f7c4",
   "metadata": {},
   "source": [
    "### Padronização\n",
    "\n",
    "Se X $\\sim$, então,\n",
    "\n",
    "$$\n",
    "Z = \\frac{X - \\mu}{\\sigma} \\sim N(0,1)\n",
    "$$"
   ]
  },
  {
   "cell_type": "markdown",
   "id": "6f1380a1",
   "metadata": {},
   "source": [
    "### Transformação Afim da Normal Padrão\n",
    "\n",
    "Se Z $\\sim$ N(0,1), então,\n",
    "\n",
    "$$\n",
    "X = \\mu + \\sigma Z \\sim N(\\mu,\\sigma^2)\n",
    "$$"
   ]
  },
  {
   "cell_type": "markdown",
   "id": "0be8174d",
   "metadata": {},
   "source": [
    "### Combinação Linear $Y = aX+b$ de X $\\sim$ N($\\mu$,$\\sigma^2$)\n",
    "\n",
    "$$\n",
    "Y = aX+b \\sim N(a\\mu + b,a^2\\sigma^2)\n",
    "$$"
   ]
  },
  {
   "cell_type": "markdown",
   "id": "5f2284dc",
   "metadata": {},
   "source": [
    "### Média, Variância, Assimetria e Curtose da Normal Padrão\n"
   ]
  },
  {
   "cell_type": "code",
   "execution_count": 32,
   "id": "e67e18d9",
   "metadata": {},
   "outputs": [],
   "source": [
    "from tabulate import tabulate"
   ]
  },
  {
   "cell_type": "code",
   "execution_count": 33,
   "id": "272c9d57",
   "metadata": {},
   "outputs": [
    {
     "name": "stdout",
     "output_type": "stream",
     "text": [
      "+---------+-------------+--------------+-----------+\n",
      "|   Média |   Variância |   Assimetria |   Curtose |\n",
      "+=========+=============+==============+===========+\n",
      "|       0 |           1 |            0 |         3 |\n",
      "+---------+-------------+--------------+-----------+\n"
     ]
    }
   ],
   "source": [
    "X_padrao = norm(loc = 0, scale = 1)\n",
    "\n",
    "lista = [X_padrao.mean(),X_padrao.var(),X_padrao.moment(3),X_padrao.moment(4)]\n",
    "\n",
    "table = tabulate(\n",
    "    [lista], \n",
    "    headers=[\"Média\", \"Variância\", \"Assimetria\",\"Curtose\"], \n",
    "    tablefmt=\"grid\"\n",
    ")\n",
    "\n",
    "print(table)"
   ]
  },
  {
   "cell_type": "markdown",
   "id": "04be0795",
   "metadata": {},
   "source": [
    "### Momento de Origem R em relação á Origem da Normal Padrão\n",
    "\n",
    "Se Z $\\sim$ N(0,1), então\n",
    "\n",
    "$E(Z^r) = 0$ se r é ímpar.\n",
    "\n",
    "$E(Z^r) = \\frac{r!}{2^{r/2}(r/2)!}$ se r é par"
   ]
  },
  {
   "cell_type": "code",
   "execution_count": 34,
   "id": "108c0fe1",
   "metadata": {},
   "outputs": [],
   "source": [
    "import math"
   ]
  },
  {
   "cell_type": "code",
   "execution_count": 50,
   "id": "215240fe",
   "metadata": {},
   "outputs": [],
   "source": [
    "# Construindo função do r-ésimo momento da normal padrão\n",
    "def Xr_normal_padrao(r):\n",
    "    if r % 2 == 0:\n",
    "        funcao = math.factorial(r)/((2**(r/2))*math.factorial(int(r/2)))\n",
    "        return funcao\n",
    "    else:\n",
    "        return 0"
   ]
  },
  {
   "cell_type": "code",
   "execution_count": 51,
   "id": "dcb9fd94",
   "metadata": {},
   "outputs": [
    {
     "data": {
      "text/plain": [
       "3.0"
      ]
     },
     "execution_count": 51,
     "metadata": {},
     "output_type": "execute_result"
    }
   ],
   "source": [
    "Xr_normal_padrao(4)"
   ]
  },
  {
   "cell_type": "code",
   "execution_count": null,
   "id": "ab7265a7",
   "metadata": {},
   "outputs": [],
   "source": []
  }
 ],
 "metadata": {
  "kernelspec": {
   "display_name": "base",
   "language": "python",
   "name": "python3"
  },
  "language_info": {
   "codemirror_mode": {
    "name": "ipython",
    "version": 3
   },
   "file_extension": ".py",
   "mimetype": "text/x-python",
   "name": "python",
   "nbconvert_exporter": "python",
   "pygments_lexer": "ipython3",
   "version": "3.12.7"
  }
 },
 "nbformat": 4,
 "nbformat_minor": 5
}
