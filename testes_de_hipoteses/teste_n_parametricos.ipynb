{
 "cells": [
  {
   "cell_type": "markdown",
   "id": "f79da859",
   "metadata": {},
   "source": [
    "## Teste de aderência"
   ]
  },
  {
   "cell_type": "markdown",
   "id": "5717125e",
   "metadata": {},
   "source": [
    "Utilizado em amostras com variáveis dicotômicas, testa se a proporção de\n",
    "sucesso observada na amostra (𝑝̂) pertence a uma população com um\n",
    "determinado valor de p. "
   ]
  },
  {
   "cell_type": "markdown",
   "id": "779cfee7",
   "metadata": {},
   "source": [
    "### Teste Binomial"
   ]
  },
  {
   "cell_type": "markdown",
   "id": "4ab846e9",
   "metadata": {},
   "source": [
    "Em uma amostra de tamanho 20 foram observados 5 sucessos. Testar se p>0.2\n",
    "com nível de significância de 5%."
   ]
  },
  {
   "cell_type": "code",
   "execution_count": 47,
   "id": "dcf123d8",
   "metadata": {},
   "outputs": [],
   "source": [
    "# Importação da função de teste binomial do SciPy\n",
    "from scipy.stats import binomtest\n",
    "\n",
    "# Função para realizar um teste binomial com saída formatada\n",
    "def TesteBinomial(k = int, n = int, p = float, alternativa = 'two-sided', conf = 0.95):\n",
    "    # Realiza o teste binomial com os parâmetros fornecidos\n",
    "    teste = binomtest(k = k, n = n, p = p, alternative = alternativa)\n",
    "\n",
    "    # Obtém o intervalo de confiança da proporção\n",
    "    ic = teste.proportion_ci(conf)\n",
    "\n",
    "    # Define se a hipótese nula é aceita ou rejeitada com base no p-valor\n",
    "    h0 = 'ACEITA' if teste.pvalue > 1 - conf else 'REJEITADA'\n",
    "\n",
    "    # Define a hipótese alternativa com base no argumento 'alternativa'\n",
    "    h1 = {\n",
    "        'two-sided': f'A verdadeira proporção é diferente de {p}',\n",
    "        \"greater\": f\"A verdadeira proporção é maior que {p}\",\n",
    "        \"less\": f\"A verdadeira proporção é menor que {p}\"\n",
    "    }\n",
    "\n",
    "    # Mensagem de saída com resultados e conclusões do teste\n",
    "    mensagem_resultado = f\"\"\"\n",
    "    Número de sucessos: {k}, Número de tentativas: {n}, p-valor: {teste.pvalue}\n",
    "    \n",
    "    intervalos de confiança {int(100*conf)}%: {ic}\n",
    "    \n",
    "    H0: p = {p}\n",
    "    H1: {h1[alternativa]}\n",
    "    \n",
    "    Resultado:\n",
    "    H0: {h0}\n",
    "    \"\"\"\n",
    "    return mensagem_resultado"
   ]
  },
  {
   "cell_type": "code",
   "execution_count": 48,
   "id": "a0212feb",
   "metadata": {},
   "outputs": [
    {
     "name": "stdout",
     "output_type": "stream",
     "text": [
      "\n",
      "    Número de sucessos: 5, Número de tentativas: 20, p-valor: 0.3703517360973313\n",
      "    \n",
      "    intervalos de confiança 95%: ConfidenceInterval(low=0.1040808359101361, high=1.0)\n",
      "    \n",
      "    H0: p = 0.2\n",
      "    H1: A verdadeira proporção é maior que 0.2\n",
      "    \n",
      "    Resultado:\n",
      "    H0: ACEITA\n",
      "    \n"
     ]
    }
   ],
   "source": [
    "# Testando teste binomial\n",
    "print(TesteBinomial(5,20,0.2,'greater'))"
   ]
  },
  {
   "cell_type": "markdown",
   "id": "3cd03609",
   "metadata": {},
   "source": [
    "### Teste Qui-quadrado"
   ]
  },
  {
   "cell_type": "markdown",
   "id": "9eb283e5",
   "metadata": {},
   "source": [
    "Utilizado para testar se a frequência observada na amostra difere\n",
    "significativamente da frequência esperada especificada por uma distribuição de\n",
    "probabilidade."
   ]
  },
  {
   "cell_type": "code",
   "execution_count": 49,
   "id": "7cd58032",
   "metadata": {},
   "outputs": [],
   "source": [
    "# Importações necessárias\n",
    "from scipy.stats import binom, chisquare, poisson # Distribuição binomial, Poisson e teste do Qui-Quadrado\n",
    "import numpy as np"
   ]
  },
  {
   "cell_type": "code",
   "execution_count": 50,
   "id": "e0ae0d0a",
   "metadata": {},
   "outputs": [],
   "source": [
    "# Função para calcular valores esperados de uma distribuição Binomial\n",
    "def binomial_valores_esperados(p, n, total):\n",
    "    # Calcula as probabilidades de uma distribuição binomial e multiplica pelo total\n",
    "    # 'binom.pmf(i, n, p)' calcula a probabilidade binomial para o valor 'i' dado 'n' tentativas e probabilidade 'p'\n",
    "    valores = [binom.pmf(i, n, p) * total for i in range(n + 1)]\n",
    "    \n",
    "    return valores  # Retorna a lista com os valores esperados"
   ]
  },
  {
   "cell_type": "code",
   "execution_count": 51,
   "id": "0a8c0b47",
   "metadata": {},
   "outputs": [],
   "source": [
    "# Função para calcular valores esperados da distribuição Poisson\n",
    "def poisson_exp(p, n):\n",
    "    # Cria uma lista vazia para armazenar os valores calculados\n",
    "    valores = []\n",
    "    \n",
    "    # Calcula a probabilidade de Poisson para cada valor de 0 até n\n",
    "    for i in range(0, n + 1):\n",
    "        # 'poisson.pmf(i, p)' calcula a probabilidade de Poisson para o valor 'i' com parâmetro 'p'\n",
    "        valores.append(poisson.pmf(i, p))\n",
    "    \n",
    "    # Adiciona o complemento das probabilidades (1 - soma das probabilidades calculadas)\n",
    "    # Isso é útil para representar a probabilidade de valores maiores que 'n'.\n",
    "    valores.append(1 - sum(valores))\n",
    "    \n",
    "    return valores  # Retorna a lista com os valores esperados\n"
   ]
  },
  {
   "cell_type": "code",
   "execution_count": 52,
   "id": "92fab663",
   "metadata": {},
   "outputs": [],
   "source": [
    "# Função de teste de aderência do Qui-Quadrado\n",
    "def ChiTeste(f_observada, f_esperada):\n",
    "    # Aplica o teste de aderência Qui-Quadrado usando as funções do SciPy\n",
    "    # 'f_obs' são as frequências observadas e 'f_exp' as frequências esperadas.\n",
    "    teste = chisquare(f_obs=f_observada, f_exp=f_esperada)\n",
    "    \n",
    "    # Formatação da mensagem de saída, com os resultados do teste\n",
    "    mensagem = f\"\"\"\n",
    "    Estatística do teste: {teste.statistic}  # Estatística do teste Qui-Quadrado.\n",
    "    p-valor: {teste.pvalue}  # p-valor do teste, indicando a probabilidade do resultado ser aleatório.\n",
    "    \"\"\"\n",
    "    \n",
    "    return mensagem  # Retorna a mensagem com os resultados"
   ]
  },
  {
   "cell_type": "markdown",
   "id": "d1cf417a",
   "metadata": {},
   "source": [
    "Abaixo, temos o número observado de falhas mecânicas, por hora, em uma linha\n",
    "de montagem, a partir de um experimento com duração de 40 horas. Um\n",
    "engenheiro afirma que o processo descrito, seguem uma distribuição de Poisson\n",
    "com média igual a 3.2.Testar com α=0.05."
   ]
  },
  {
   "cell_type": "markdown",
   "id": "21f04225",
   "metadata": {},
   "source": [
    "### Teste de kolmogorov-Smirnov"
   ]
  },
  {
   "cell_type": "markdown",
   "id": "73782906",
   "metadata": {},
   "source": [
    "Avalia se os dados amostrais se aproximam razoavelmente de uma\n",
    "determinada distribuição"
   ]
  },
  {
   "cell_type": "markdown",
   "id": "3c0acd14",
   "metadata": {},
   "source": [
    "cenário:\n",
    "\n",
    "Você é um analista de dados de uma empresa que coleta informações sobre a quantidade de horas que seus funcionários trabalham por semana. Eles têm uma política de horário de trabalho, mas querem saber se a distribuição das horas trabalhadas segue um padrão específico.\n",
    "\n",
    "A empresa afirma que, com base em estudos anteriores, a distribuição das horas semanais de trabalho dos funcionários deveria seguir uma distribuição normal, com média de 40 horas e desvio padrão de 5 horas. No entanto, você suspeita que a distribuição real pode ser diferente, talvez devido a mudanças nas políticas de trabalho remoto ou outros fatores inesperados."
   ]
  },
  {
   "cell_type": "markdown",
   "id": "794a78e1",
   "metadata": {},
   "source": [
    "Objetivo:\n",
    "\n",
    "Você deve realizar o teste de Kolmogorov-Smirnov para verificar se a distribuição das horas semanais de trabalho segue uma distribuição normal com média de 40 horas e desvio padrão de 5 horas. Para isso, você tem uma amostra de dados de 500 funcionários sobre suas horas trabalhadas nas últimas semanas."
   ]
  },
  {
   "cell_type": "markdown",
   "id": "5e4f852d",
   "metadata": {},
   "source": [
    "Hipótestes:\n",
    "\n",
    "- Hipótese nula (H0): As horas semanais seguem uma distribuição normal com média de 40 horas e desvio padrão de 5 horas.\n",
    "\n",
    "- Hipótese alternativa (H1): As horas semanais não seguem uma distribuição normal com média de 40 horas e desvio padrão de 5 horas."
   ]
  },
  {
   "cell_type": "code",
   "execution_count": 53,
   "id": "b9d9e875",
   "metadata": {},
   "outputs": [],
   "source": [
    "# importações\n",
    "import numpy as np"
   ]
  },
  {
   "cell_type": "code",
   "execution_count": 54,
   "id": "9f56458c",
   "metadata": {},
   "outputs": [],
   "source": [
    "# simulando dados\n",
    "dados = np.random.normal(40,5,50)"
   ]
  },
  {
   "cell_type": "code",
   "execution_count": 55,
   "id": "85898769",
   "metadata": {},
   "outputs": [],
   "source": [
    "# Importando teste\n",
    "from scipy.stats import kstest\n",
    "# Importa o teste de Kolmogorov-Smirnov da biblioteca SciPy.\n",
    "\n",
    "# Construindo função do teste\n",
    "def KomogorovTest(amostra, densidade, N=20, alternativa='two-sided', metodo='auto', conf=0.95):\n",
    "    # Realiza o teste de Kolmogorov-Smirnov para comparar a amostra com uma distribuição teórica.\n",
    "    # Parâmetros:\n",
    "    # - amostra: os dados empíricos a serem testados.\n",
    "    # - densidade: a cdf (função de distribuição acumulada) da distribuição teórica (ex: 'norm').\n",
    "    # - N: número de pontos usados na cdf se ela for uma string (default = 20).\n",
    "    # - alternativa: 'two-sided', 'less' ou 'greater'.\n",
    "    # - metodo: método de cálculo do p-valor ('auto', 'exact', 'asymp').\n",
    "    # - conf: nível de confiança para decisão da hipótese nula.\n",
    "\n",
    "    stats, pvalue = kstest(rvs=amostra, cdf=densidade, N=N, alternative=alternativa, method=metodo)\n",
    "    # Aplica o teste KS e obtém a estatística e o p-valor.\n",
    "\n",
    "    print(pvalue)\n",
    "    # Imprime o p-valor (pode ser removido se quiser retorno limpo).\n",
    "\n",
    "    saida = f\"\"\"\n",
    "    =========== Informações do Teste ============\n",
    "    \n",
    "    - Estatística do Teste: {stats}\n",
    "    \n",
    "    - P-Valor: {pvalue}\n",
    "    \n",
    "    - H0: {True if pvalue > 1 - conf else False}\n",
    "    \n",
    "    \"\"\"\n",
    "    # Formata os resultados e avalia se a hipótese nula é aceita (com base em p > 1 - conf).\n",
    "\n",
    "    return saida"
   ]
  },
  {
   "cell_type": "code",
   "execution_count": 56,
   "id": "f6859e3c",
   "metadata": {},
   "outputs": [
    {
     "name": "stdout",
     "output_type": "stream",
     "text": [
      "0.0\n",
      "\n",
      "    =========== Informações do Teste ============\n",
      "    \n",
      "    - Estatística do Teste: 1.0\n",
      "    \n",
      "    - P-Valor: 0.0\n",
      "    \n",
      "    - H0: False\n",
      "    \n",
      "    \n"
     ]
    }
   ],
   "source": [
    "# Testando Hipóteses:\n",
    "from scipy.stats import norm\n",
    "\n",
    "print(KomogorovTest(dados,norm.cdf))"
   ]
  },
  {
   "cell_type": "markdown",
   "id": "9cfc2233",
   "metadata": {},
   "source": [
    "Rejeitamos H0, concluindo que as distribuições são diferentes. Em um nível de confiança de 0,05%"
   ]
  },
  {
   "cell_type": "markdown",
   "id": "c3c9be64",
   "metadata": {},
   "source": [
    "### Teste de Lilliefors"
   ]
  },
  {
   "cell_type": "markdown",
   "id": "cc0b2d4b",
   "metadata": {},
   "source": [
    "Esse teste é utilizado para verificar a normalidade dos dados."
   ]
  },
  {
   "cell_type": "markdown",
   "id": "7a3c8187",
   "metadata": {},
   "source": [
    "Cenário:\n",
    "\n",
    "Uma equipe de RH está analisando o número de dias de afastamento médico dos funcionários de uma empresa ao longo de um ano. Eles suspeitam que esse número de dias por funcionário segue uma distribuição normal, mas não conhecem a média nem o desvio padrão populacional. A equipe deseja verificar se essa suposição de normalidade é razoável com base nos dados coletados de 60 funcionários selecionados aleatoriamente."
   ]
  },
  {
   "cell_type": "markdown",
   "id": "218e23c9",
   "metadata": {},
   "source": [
    "Hipótetse:\n",
    "- H0: Os dados sobre os funcionários seguem uma distribuição Normal\n",
    "\n",
    "- H1: Os dados sobre os funcionários não seguem uma distribuição Normal"
   ]
  },
  {
   "cell_type": "code",
   "execution_count": 57,
   "id": "e40447e1",
   "metadata": {},
   "outputs": [
    {
     "data": {
      "text/plain": [
       "array([ 0.45052859, -1.49896787, -0.14074084, -1.670475  , -0.78967155,\n",
       "       -1.06548453,  0.14041997, -0.96775735,  0.00383305, -0.39746301,\n",
       "       -0.64592981, -0.03946952,  0.15504041, -0.67513617, -0.40684639,\n",
       "       -0.00807874, -0.01445527, -0.64666024, -2.27731149,  1.00174953,\n",
       "       -1.77063587,  1.61971343,  0.07166404, -1.89706832,  1.02851702,\n",
       "       -2.0857723 , -0.34463575, -0.61110228,  0.18750571,  0.61063083,\n",
       "        1.19408213, -2.42343393,  1.81210423, -0.56325557, -1.22597969,\n",
       "       -0.55407092,  0.54721181,  1.52962456, -1.0770806 ,  0.32567823,\n",
       "        0.95179051,  1.08775471, -0.32604493,  1.63592488,  1.35061357,\n",
       "        0.13072375, -0.86264936,  0.85512686,  1.08679263,  1.01050923,\n",
       "        0.12332546,  1.20857028, -1.13511577,  0.19423546,  1.17630679,\n",
       "        0.61868007,  0.16980616, -0.02799717, -0.10938564,  1.90450928])"
      ]
     },
     "execution_count": 57,
     "metadata": {},
     "output_type": "execute_result"
    }
   ],
   "source": [
    "# Simulando amostra\n",
    "dados = norm.rvs(0,1,60)\n",
    "dados"
   ]
  },
  {
   "cell_type": "code",
   "execution_count": 58,
   "id": "c8a42d77",
   "metadata": {},
   "outputs": [],
   "source": [
    "# Importação do teste\n",
    "from statsmodels.stats.diagnostic import lilliefors\n",
    "# Importa o teste de Lilliefors, usado para verificar aderência a uma distribuição (ex: normal).\n",
    "\n",
    "# Criando função do teste\n",
    "def Teste_lilliefors(dados, distribuicao=\"norm\", pvalmethod='table', conf=0.95):\n",
    "    # Função que realiza o teste de Lilliefors em um conjunto de dados.\n",
    "    # Parâmetros:\n",
    "    # - dados: vetor com os dados a serem testados.\n",
    "    # - distribuicao: distribuição alvo (default = \"norm\" para normal).\n",
    "    # - pvalmethod: método para p-valor ('table' = usa tabela, 'approx' = aproximação).\n",
    "    # - conf: nível de confiança (default = 95%).\n",
    "\n",
    "    stats, p = lilliefors(dados, distribuicao, pvalmethod)\n",
    "    # Aplica o teste e retorna estatística do teste e p-valor.\n",
    "\n",
    "    saida = f\"\"\"\n",
    "    ============ Informações sobre o Teste ===========\n",
    "    \n",
    "    - Estatística do Teste:{stats}\n",
    "    \n",
    "    - P valor: {p}\n",
    "    \n",
    "    - H0: {True if p > 1 - conf else False}\n",
    "    \"\"\"\n",
    "    # Formata uma string com os resultados e se a hipótese nula é aceita ou não.\n",
    "\n",
    "    return saida"
   ]
  },
  {
   "cell_type": "code",
   "execution_count": 59,
   "id": "b2141b53",
   "metadata": {},
   "outputs": [
    {
     "name": "stdout",
     "output_type": "stream",
     "text": [
      "\n",
      "    ============ Informações sobre o Teste ===========\n",
      "    \n",
      "    - Estatística do Teste:0.07331358887797457\n",
      "    \n",
      "    - P valor: 0.6261865331676557\n",
      "    \n",
      "    - H0: True\n",
      "    \n"
     ]
    }
   ],
   "source": [
    "# Testando Hipótestes\n",
    "print(Teste_lilliefors(dados))"
   ]
  },
  {
   "cell_type": "code",
   "execution_count": null,
   "id": "2f38f340",
   "metadata": {},
   "outputs": [],
   "source": []
  }
 ],
 "metadata": {
  "kernelspec": {
   "display_name": "base",
   "language": "python",
   "name": "python3"
  },
  "language_info": {
   "codemirror_mode": {
    "name": "ipython",
    "version": 3
   },
   "file_extension": ".py",
   "mimetype": "text/x-python",
   "name": "python",
   "nbconvert_exporter": "python",
   "pygments_lexer": "ipython3",
   "version": "3.12.7"
  }
 },
 "nbformat": 4,
 "nbformat_minor": 5
}
