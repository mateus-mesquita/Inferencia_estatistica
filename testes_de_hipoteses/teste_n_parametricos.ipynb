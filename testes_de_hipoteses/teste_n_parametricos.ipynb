{
 "cells": [
  {
   "cell_type": "markdown",
   "id": "f79da859",
   "metadata": {},
   "source": [
    "## Testes de aderência"
   ]
  },
  {
   "cell_type": "markdown",
   "id": "5717125e",
   "metadata": {},
   "source": [
    "Utilizado em amostras com variáveis dicotômicas, testa se a proporção de\n",
    "sucesso observada na amostra (𝑝̂) pertence a uma população com um\n",
    "determinado valor de p. "
   ]
  },
  {
   "cell_type": "markdown",
   "id": "779cfee7",
   "metadata": {},
   "source": [
    "### Teste Binomial"
   ]
  },
  {
   "cell_type": "markdown",
   "id": "4ab846e9",
   "metadata": {},
   "source": [
    "Em uma amostra de tamanho 20 foram observados 5 sucessos. Testar se p>0.2\n",
    "com nível de significância de 5%."
   ]
  },
  {
   "cell_type": "code",
   "execution_count": 1,
   "id": "dcf123d8",
   "metadata": {},
   "outputs": [],
   "source": [
    "# Importação da função de teste binomial do SciPy\n",
    "from scipy.stats import binomtest\n",
    "\n",
    "# Função para realizar um teste binomial com saída formatada\n",
    "def TesteBinomial(k = int, n = int, p = float, alternativa = 'two-sided', conf = 0.95):\n",
    "    # Realiza o teste binomial com os parâmetros fornecidos\n",
    "    teste = binomtest(k = k, n = n, p = p, alternative = alternativa)\n",
    "\n",
    "    # Obtém o intervalo de confiança da proporção\n",
    "    ic = teste.proportion_ci(conf)\n",
    "\n",
    "    # Define se a hipótese nula é aceita ou rejeitada com base no p-valor\n",
    "    h0 = 'ACEITA' if teste.pvalue > 1 - conf else 'REJEITADA'\n",
    "\n",
    "    # Define a hipótese alternativa com base no argumento 'alternativa'\n",
    "    h1 = {\n",
    "        'two-sided': f'A verdadeira proporção é diferente de {p}',\n",
    "        \"greater\": f\"A verdadeira proporção é maior que {p}\",\n",
    "        \"less\": f\"A verdadeira proporção é menor que {p}\"\n",
    "    }\n",
    "\n",
    "    # Mensagem de saída com resultados e conclusões do teste\n",
    "    mensagem_resultado = f\"\"\"\n",
    "    Número de sucessos: {k}, Número de tentativas: {n}, p-valor: {teste.pvalue}\n",
    "    \n",
    "    intervalos de confiança {int(100*conf)}%: {ic}\n",
    "    \n",
    "    H0: p = {p}\n",
    "    H1: {h1[alternativa]}\n",
    "    \n",
    "    Resultado:\n",
    "    H0: {h0}\n",
    "    \"\"\"\n",
    "    return mensagem_resultado"
   ]
  },
  {
   "cell_type": "code",
   "execution_count": 2,
   "id": "a0212feb",
   "metadata": {},
   "outputs": [
    {
     "name": "stdout",
     "output_type": "stream",
     "text": [
      "\n",
      "    Número de sucessos: 5, Número de tentativas: 20, p-valor: 0.3703517360973313\n",
      "    \n",
      "    intervalos de confiança 95%: ConfidenceInterval(low=0.1040808359101361, high=1.0)\n",
      "    \n",
      "    H0: p = 0.2\n",
      "    H1: A verdadeira proporção é maior que 0.2\n",
      "    \n",
      "    Resultado:\n",
      "    H0: ACEITA\n",
      "    \n"
     ]
    }
   ],
   "source": [
    "# Testando teste binomial\n",
    "print(TesteBinomial(5,20,0.2,'greater'))"
   ]
  },
  {
   "cell_type": "markdown",
   "id": "3cd03609",
   "metadata": {},
   "source": [
    "### Teste Qui-quadrado"
   ]
  },
  {
   "cell_type": "markdown",
   "id": "9eb283e5",
   "metadata": {},
   "source": [
    "Utilizado para testar se a frequência observada na amostra difere\n",
    "significativamente da frequência esperada especificada por uma distribuição de\n",
    "probabilidade."
   ]
  },
  {
   "cell_type": "code",
   "execution_count": 3,
   "id": "7cd58032",
   "metadata": {},
   "outputs": [],
   "source": [
    "# Importações necessárias\n",
    "from scipy.stats import binom, chisquare, poisson # Distribuição binomial, Poisson e teste do Qui-Quadrado\n",
    "import numpy as np"
   ]
  },
  {
   "cell_type": "code",
   "execution_count": null,
   "id": "e0ae0d0a",
   "metadata": {},
   "outputs": [],
   "source": [
    "# Função para calcular valores esperados de uma distribuição Binomial\n",
    "def binomial_valores_esperados(p, n, total):\n",
    "    # Calcula as probabilidades de uma distribuição binomial e multiplica pelo total\n",
    "    # 'binom.pmf(i, n, p)' calcula a probabilidade binomial para o valor 'i' dado 'n' tentativas e probabilidade 'p'\n",
    "    valores = [binom.pmf(i, n, p) * total for i in range(n + 1)]\n",
    "    \n",
    "    return valores  # Retorna a lista com os valores esperados"
   ]
  },
  {
   "cell_type": "code",
   "execution_count": null,
   "id": "0a8c0b47",
   "metadata": {},
   "outputs": [],
   "source": [
    "# Função para calcular valores esperados da distribuição Poisson\n",
    "def poisson_exp(p, n):\n",
    "    # Cria uma lista vazia para armazenar os valores calculados\n",
    "    valores = []\n",
    "    \n",
    "    # Calcula a probabilidade de Poisson para cada valor de 0 até n\n",
    "    for i in range(0, n + 1):\n",
    "        # 'poisson.pmf(i, p)' calcula a probabilidade de Poisson para o valor 'i' com parâmetro 'p'\n",
    "        valores.append(poisson.pmf(i, p))\n",
    "    \n",
    "    # Adiciona o complemento das probabilidades (1 - soma das probabilidades calculadas)\n",
    "    # Isso é útil para representar a probabilidade de valores maiores que 'n'.\n",
    "    valores.append(1 - sum(valores))\n",
    "    \n",
    "    return valores  # Retorna a lista com os valores esperados\n"
   ]
  },
  {
   "cell_type": "code",
   "execution_count": null,
   "id": "92fab663",
   "metadata": {},
   "outputs": [],
   "source": [
    "# Função de teste de aderência do Qui-Quadrado\n",
    "def ChiTeste(f_observada, f_esperada):\n",
    "    # Aplica o teste de aderência Qui-Quadrado usando as funções do SciPy\n",
    "    # 'f_obs' são as frequências observadas e 'f_exp' as frequências esperadas.\n",
    "    teste = chisquare(f_obs=f_observada, f_exp=f_esperada)\n",
    "    \n",
    "    # Formatação da mensagem de saída, com os resultados do teste\n",
    "    mensagem = f\"\"\"\n",
    "    Estatística do teste: {teste.statistic}  # Estatística do teste Qui-Quadrado.\n",
    "    p-valor: {teste.pvalue}  # p-valor do teste, indicando a probabilidade do resultado ser aleatório.\n",
    "    \"\"\"\n",
    "    \n",
    "    return mensagem  # Retorna a mensagem com os resultados"
   ]
  },
  {
   "cell_type": "markdown",
   "id": "d1cf417a",
   "metadata": {},
   "source": [
    "Abaixo, temos o número observado de falhas mecânicas, por hora, em uma linha\n",
    "de montagem, a partir de um experimento com duração de 40 horas. Um\n",
    "engenheiro afirma que o processo descrito, seguem uma distribuição de Poisson\n",
    "com média igual a 3.2.Testar com α=0.05."
   ]
  },
  {
   "cell_type": "markdown",
   "id": "21f04225",
   "metadata": {},
   "source": [
    "### Teste de kolmogorov-Smirnov"
   ]
  },
  {
   "cell_type": "markdown",
   "id": "73782906",
   "metadata": {},
   "source": [
    "Avalia se os dados amostrais se aproximam razoavelmente de uma\n",
    "determinada distribuição"
   ]
  },
  {
   "cell_type": "code",
   "execution_count": null,
   "id": "b9d9e875",
   "metadata": {},
   "outputs": [],
   "source": []
  }
 ],
 "metadata": {
  "kernelspec": {
   "display_name": "base",
   "language": "python",
   "name": "python3"
  },
  "language_info": {
   "codemirror_mode": {
    "name": "ipython",
    "version": 3
   },
   "file_extension": ".py",
   "mimetype": "text/x-python",
   "name": "python",
   "nbconvert_exporter": "python",
   "pygments_lexer": "ipython3",
   "version": "3.12.7"
  }
 },
 "nbformat": 4,
 "nbformat_minor": 5
}
