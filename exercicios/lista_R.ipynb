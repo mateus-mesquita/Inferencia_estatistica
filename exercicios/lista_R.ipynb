{
 "cells": [
  {
   "cell_type": "markdown",
   "id": "bc395c49",
   "metadata": {},
   "source": [
    "1. Uma amostra de tamanho 100 forneceu peso médio da matéria seca da parte áerea\n",
    "(g) do mamoeiro em solo inoculado com fungos G. etunicatum e adubado com 20 mg/l\n",
    "de P2CO3 de 5,78 g com desvio padrão de 1,28 g."
   ]
  },
  {
   "cell_type": "markdown",
   "id": "9a8dea20",
   "metadata": {},
   "source": [
    "a) Estime o peso médio da matéria seca com 98% de confiança"
   ]
  },
  {
   "cell_type": "code",
   "execution_count": 14,
   "id": "3a698104",
   "metadata": {
    "vscode": {
     "languageId": "r"
    }
   },
   "outputs": [],
   "source": [
    "# Construindo função para calcular o intervalo de confiança\n",
    "IC.NORM <- function(alfa, amostra, media, dp){\n",
    "  # Calcula o erro padrão\n",
    "  erro_padrao = dp/sqrt(amostra)  \n",
    "  \n",
    "  # Calcula o valor do quantil superior (1 - alfa/2)\n",
    "  limite_superior = qnorm(1-alfa/2)\n",
    "  \n",
    "  # Calcula o valor do quantil inferior (alfa/2)\n",
    "  limite_inferior = qnorm(1-(1-alfa/2))\n",
    "  \n",
    "  # Calcula o intervalo de confiança e retorna como um vetor nomeado\n",
    "  resultado = c('l1' = media + limite_inferior*erro_padrao, 'l2' = media + limite_superior*erro_padrao)\n",
    "  return(resultado)\n",
    "}"
   ]
  },
  {
   "cell_type": "markdown",
   "id": "4afdc341",
   "metadata": {},
   "source": [
    "Calculando o intervalo de confiança:"
   ]
  },
  {
   "cell_type": "code",
   "execution_count": 15,
   "id": "23a1785a",
   "metadata": {
    "vscode": {
     "languageId": "r"
    }
   },
   "outputs": [
    {
     "data": {
      "text/html": [
       "<dl class=dl-horizontal>\n",
       "\t<dt>l1</dt>\n",
       "\t\t<dd>5.48222747212277</dd>\n",
       "\t<dt>l2</dt>\n",
       "\t\t<dd>6.07777252787723</dd>\n",
       "</dl>\n"
      ],
      "text/latex": [
       "\\begin{description*}\n",
       "\\item[l1] 5.48222747212277\n",
       "\\item[l2] 6.07777252787723\n",
       "\\end{description*}\n"
      ],
      "text/markdown": [
       "l1\n",
       ":   5.48222747212277l2\n",
       ":   6.07777252787723\n",
       "\n"
      ],
      "text/plain": [
       "      l1       l2 \n",
       "5.482227 6.077773 "
      ]
     },
     "metadata": {},
     "output_type": "display_data"
    }
   ],
   "source": [
    "# Intervalo de confiança\n",
    "# amostra de n = 100\n",
    "# média = 5,78 g\n",
    "# desvio padrão = 1,28 g\n",
    "\n",
    "IC.NORM(0.02,100,5.78,1.28)"
   ]
  },
  {
   "cell_type": "markdown",
   "id": "eae6f213",
   "metadata": {},
   "source": [
    "b) Qual o valor do erro nas suas estimativas?"
   ]
  },
  {
   "cell_type": "code",
   "execution_count": 16,
   "id": "db4809d4",
   "metadata": {
    "vscode": {
     "languageId": "r"
    }
   },
   "outputs": [],
   "source": [
    "# Construindo função para calcular a margem de erro\n",
    "M.erro <- function(alfa, amostra, dp){\n",
    "  # Calcula a margem de erro utilizando o erro padrão e o quantil normal\n",
    "  margem_de_erro = dp/sqrt(amostra) * qnorm(1-alfa/2)\n",
    "  \n",
    "  # Retorna a margem de erro calculada\n",
    "  return(margem_de_erro)\n",
    "}"
   ]
  },
  {
   "cell_type": "markdown",
   "id": "ebf07f99",
   "metadata": {},
   "source": [
    "Calculando a margem de erro:"
   ]
  },
  {
   "cell_type": "code",
   "execution_count": 17,
   "id": "3ca763b3",
   "metadata": {
    "vscode": {
     "languageId": "r"
    }
   },
   "outputs": [
    {
     "data": {
      "text/html": [
       "0.297772527877228"
      ],
      "text/latex": [
       "0.297772527877228"
      ],
      "text/markdown": [
       "0.297772527877228"
      ],
      "text/plain": [
       "[1] 0.2977725"
      ]
     },
     "metadata": {},
     "output_type": "display_data"
    }
   ],
   "source": [
    "# Calculando a margem de erro para 0.02\n",
    "M.erro(0.02,100,1.28)"
   ]
  },
  {
   "cell_type": "markdown",
   "id": "f1dfd12d",
   "metadata": {},
   "source": [
    "c) Suponha que o pesquisador deseje cometer um erro de apenas 0,20 g na estimativa\n",
    "com 95% de confiança no seu intervalo. De que tamanho deverá ser a nova amostra?\n"
   ]
  },
  {
   "cell_type": "markdown",
   "id": "2c8bff8d",
   "metadata": {},
   "source": [
    "Essa não é a melhor maneira para se resolver esse problema, mas podemos responder essa pergunta usando o que já foi feito com um pouco de programação.\n",
    "\n",
    "primeiro vamos observar a margem de erro para um intervalo de confiança de 95%"
   ]
  },
  {
   "cell_type": "code",
   "execution_count": 18,
   "id": "ff8c9817",
   "metadata": {
    "vscode": {
     "languageId": "r"
    }
   },
   "outputs": [
    {
     "data": {
      "text/html": [
       "0.25"
      ],
      "text/latex": [
       "0.25"
      ],
      "text/markdown": [
       "0.25"
      ],
      "text/plain": [
       "[1] 0.25"
      ]
     },
     "metadata": {},
     "output_type": "display_data"
    }
   ],
   "source": [
    "round(M.erro(0.05,100,1.28),2) # arredondamento para duas casas decimais"
   ]
  },
  {
   "cell_type": "markdown",
   "id": "282d132d",
   "metadata": {},
   "source": [
    "Encontrando o tamanho da amostra deseja:"
   ]
  },
  {
   "cell_type": "code",
   "execution_count": 19,
   "id": "90a15cf1",
   "metadata": {
    "vscode": {
     "languageId": "r"
    }
   },
   "outputs": [
    {
     "name": "stdout",
     "output_type": "stream",
     "text": [
      "O tamanho da amostra para uma margem de erro de 0,20 g é 150 \n",
      "Margem de erro: 0.2 \n"
     ]
    }
   ],
   "source": [
    "i = 100  # Tamanho da amostra no problema\n",
    "while(TRUE){\n",
    "  # Verifica se a margem de erro calculada é igual a 0.20\n",
    "  if(round(M.erro(0.05,i,1.28),2) == 0.20){\n",
    "    # Se for 0.20, imprime o tamanho da amostra e a margem de erro\n",
    "    cat(\"O tamanho da amostra para uma margem de erro de 0,20 g é\",i,\"\\n\")\n",
    "    cat(\"Margem de erro:\",round(M.erro(0.05,i,1.28),2),\"\\n\")\n",
    "    break  # Interrompe o loop\n",
    "  } else{\n",
    "    # Se não for 0.20, aumenta o tamanho da amostra e tenta novamente\n",
    "    i = i + 1\n",
    "  }\n",
    "}"
   ]
  }
 ],
 "metadata": {
  "kernelspec": {
   "display_name": "R",
   "language": "R",
   "name": "ir"
  },
  "language_info": {
   "codemirror_mode": "r",
   "file_extension": ".r",
   "mimetype": "text/x-r-source",
   "name": "R",
   "pygments_lexer": "r",
   "version": "3.6.1"
  }
 },
 "nbformat": 4,
 "nbformat_minor": 5
}
