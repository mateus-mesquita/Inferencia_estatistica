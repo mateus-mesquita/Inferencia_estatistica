{
 "cells": [
  {
   "cell_type": "markdown",
   "id": "e35768fa",
   "metadata": {},
   "source": [
    "# Lista 3"
   ]
  },
  {
   "cell_type": "code",
   "execution_count": null,
   "id": "14147ebd",
   "metadata": {
    "vscode": {
     "languageId": "r"
    }
   },
   "outputs": [],
   "source": [
    "library(ggplot2)"
   ]
  },
  {
   "cell_type": "markdown",
   "id": "bc395c49",
   "metadata": {},
   "source": [
    "1. Uma amostra de tamanho 100 forneceu peso médio da matéria seca da parte áerea\n",
    "(g) do mamoeiro em solo inoculado com fungos G. etunicatum e adubado com 20 mg/l\n",
    "de P2CO3 de 5,78 g com desvio padrão de 1,28 g."
   ]
  },
  {
   "cell_type": "markdown",
   "id": "9a8dea20",
   "metadata": {},
   "source": [
    "a) Estime o peso médio da matéria seca com 98% de confiança"
   ]
  },
  {
   "cell_type": "code",
   "execution_count": 1,
   "id": "3a698104",
   "metadata": {
    "vscode": {
     "languageId": "r"
    }
   },
   "outputs": [],
   "source": [
    "# Construindo função para calcular o intervalo de confiança\n",
    "IC.NORM <- function(alfa, amostra, media, dp){\n",
    "  # Calcula o erro padrão\n",
    "  erro_padrao = dp/sqrt(amostra)  \n",
    "  \n",
    "  # Calcula o valor do quantil superior (1 - alfa/2)\n",
    "  limite_superior = qnorm(1-alfa/2)\n",
    "  \n",
    "  # Calcula o valor do quantil inferior (alfa/2)\n",
    "  limite_inferior = qnorm(1-(1-alfa/2))\n",
    "  \n",
    "  # Calcula o intervalo de confiança e retorna como um vetor nomeado\n",
    "  resultado = c('l1' = media + limite_inferior*erro_padrao, 'l2' = media + limite_superior*erro_padrao)\n",
    "  return(resultado)\n",
    "}"
   ]
  },
  {
   "cell_type": "markdown",
   "id": "4afdc341",
   "metadata": {},
   "source": [
    "Calculando o intervalo de confiança:"
   ]
  },
  {
   "cell_type": "code",
   "execution_count": 2,
   "id": "23a1785a",
   "metadata": {
    "vscode": {
     "languageId": "r"
    }
   },
   "outputs": [
    {
     "data": {
      "text/html": [
       "<dl class=dl-horizontal>\n",
       "\t<dt>l1</dt>\n",
       "\t\t<dd>5.48222747212277</dd>\n",
       "\t<dt>l2</dt>\n",
       "\t\t<dd>6.07777252787723</dd>\n",
       "</dl>\n"
      ],
      "text/latex": [
       "\\begin{description*}\n",
       "\\item[l1] 5.48222747212277\n",
       "\\item[l2] 6.07777252787723\n",
       "\\end{description*}\n"
      ],
      "text/markdown": [
       "l1\n",
       ":   5.48222747212277l2\n",
       ":   6.07777252787723\n",
       "\n"
      ],
      "text/plain": [
       "      l1       l2 \n",
       "5.482227 6.077773 "
      ]
     },
     "metadata": {},
     "output_type": "display_data"
    }
   ],
   "source": [
    "# Intervalo de confiança\n",
    "# amostra de n = 100\n",
    "# média = 5,78 g\n",
    "# desvio padrão = 1,28 g\n",
    "\n",
    "IC.NORM(0.02,100,5.78,1.28)"
   ]
  },
  {
   "cell_type": "markdown",
   "id": "eae6f213",
   "metadata": {},
   "source": [
    "b) Qual o valor do erro nas suas estimativas?"
   ]
  },
  {
   "cell_type": "code",
   "execution_count": 3,
   "id": "db4809d4",
   "metadata": {
    "vscode": {
     "languageId": "r"
    }
   },
   "outputs": [],
   "source": [
    "# Construindo função para calcular a margem de erro\n",
    "M.erro <- function(alfa, amostra, dp){\n",
    "  # Calcula a margem de erro utilizando o erro padrão e o quantil normal\n",
    "  margem_de_erro = dp/sqrt(amostra) * qnorm(1-alfa/2)\n",
    "  \n",
    "  # Retorna a margem de erro calculada\n",
    "  return(margem_de_erro)\n",
    "}"
   ]
  },
  {
   "cell_type": "markdown",
   "id": "ebf07f99",
   "metadata": {},
   "source": [
    "Calculando a margem de erro:"
   ]
  },
  {
   "cell_type": "code",
   "execution_count": 4,
   "id": "3ca763b3",
   "metadata": {
    "vscode": {
     "languageId": "r"
    }
   },
   "outputs": [
    {
     "data": {
      "text/html": [
       "0.297772527877228"
      ],
      "text/latex": [
       "0.297772527877228"
      ],
      "text/markdown": [
       "0.297772527877228"
      ],
      "text/plain": [
       "[1] 0.2977725"
      ]
     },
     "metadata": {},
     "output_type": "display_data"
    }
   ],
   "source": [
    "# Calculando a margem de erro para 0.02\n",
    "M.erro(0.02,100,1.28)"
   ]
  },
  {
   "cell_type": "markdown",
   "id": "f1dfd12d",
   "metadata": {},
   "source": [
    "c) Suponha que o pesquisador deseje cometer um erro de apenas 0,20 g na estimativa\n",
    "com 95% de confiança no seu intervalo. De que tamanho deverá ser a nova amostra?\n"
   ]
  },
  {
   "cell_type": "markdown",
   "id": "2c8bff8d",
   "metadata": {},
   "source": [
    "Essa não é a melhor maneira para se resolver esse problema, mas podemos responder essa pergunta usando o que já foi feito com um pouco de programação.\n",
    "\n",
    "primeiro vamos observar a margem de erro para um intervalo de confiança de 95%"
   ]
  },
  {
   "cell_type": "code",
   "execution_count": 5,
   "id": "ff8c9817",
   "metadata": {
    "vscode": {
     "languageId": "r"
    }
   },
   "outputs": [
    {
     "data": {
      "text/html": [
       "0.25"
      ],
      "text/latex": [
       "0.25"
      ],
      "text/markdown": [
       "0.25"
      ],
      "text/plain": [
       "[1] 0.25"
      ]
     },
     "metadata": {},
     "output_type": "display_data"
    }
   ],
   "source": [
    "round(M.erro(0.05,100,1.28),2) # arredondamento para duas casas decimais"
   ]
  },
  {
   "cell_type": "markdown",
   "id": "282d132d",
   "metadata": {},
   "source": [
    "Encontrando o tamanho da amostra deseja:"
   ]
  },
  {
   "cell_type": "code",
   "execution_count": 37,
   "id": "90a15cf1",
   "metadata": {
    "vscode": {
     "languageId": "r"
    }
   },
   "outputs": [
    {
     "name": "stdout",
     "output_type": "stream",
     "text": [
      "O tamanho da amostra para uma margem de erro de 0,20 g é 150 \n",
      "Margem de erro: 0.2 \n"
     ]
    }
   ],
   "source": [
    "i = 100  # Tamanho da amostra no problema\n",
    "while(TRUE){\n",
    "  # Verifica se a margem de erro calculada é igual a 0.20\n",
    "  if(round(M.erro(0.05,i,1.28),2) == 0.20){\n",
    "    # Se for 0.20, imprime o tamanho da amostra e a margem de erro\n",
    "    cat(\"O tamanho da amostra para uma margem de erro de 0,20 g é\",i,\"\\n\")\n",
    "    cat(\"Margem de erro:\",round(M.erro(0.05,i,1.28),2),\"\\n\")\n",
    "    break  # Interrompe o loop\n",
    "  } else{\n",
    "    # Se não for 0.20, aumenta o tamanho da amostra e tenta novamente\n",
    "    i = i + 1\n",
    "  }\n",
    "}"
   ]
  },
  {
   "cell_type": "markdown",
   "id": "eb661554",
   "metadata": {},
   "source": [
    "2. Analisou-se amostras da matéria seca do tomateiro para estimar o conteúdo médio\n",
    "de P quando utilizado 30 mg/kg de P na adubação da planta. Obteve-se na análise de\n",
    "100 amostras, teor médio de 18,4 mg/planta com desvio padrão de 5,2mg/planta."
   ]
  },
  {
   "cell_type": "markdown",
   "id": "d0647e15",
   "metadata": {},
   "source": [
    "a) Qual o teor médio estimado para a matéria seca do tomateiro neste caso? α = 1%."
   ]
  },
  {
   "cell_type": "code",
   "execution_count": null,
   "id": "b36a7fed",
   "metadata": {
    "vscode": {
     "languageId": "r"
    }
   },
   "outputs": [
    {
     "data": {
      "text/html": [
       "<dl class=dl-horizontal>\n",
       "\t<dt>l1</dt>\n",
       "\t\t<dd>17.0605687621546</dd>\n",
       "\t<dt>l2</dt>\n",
       "\t\t<dd>19.7394312378454</dd>\n",
       "</dl>\n"
      ],
      "text/latex": [
       "\\begin{description*}\n",
       "\\item[l1] 17.0605687621546\n",
       "\\item[l2] 19.7394312378454\n",
       "\\end{description*}\n"
      ],
      "text/markdown": [
       "l1\n",
       ":   17.0605687621546l2\n",
       ":   19.7394312378454\n",
       "\n"
      ],
      "text/plain": [
       "      l1       l2 \n",
       "17.06057 19.73943 "
      ]
     },
     "metadata": {},
     "output_type": "display_data"
    }
   ],
   "source": [
    "# usando função IC.NORM\n",
    "# amostra de tamanho 100\n",
    "# média = 18,4 mg/planta\n",
    "# desvio padrão = 5,2 mg/planta\n",
    "\n",
    "IC.NORM(alfa = 0.01,amostra = 100, media = 18.4, dp = 5.2)"
   ]
  },
  {
   "cell_type": "markdown",
   "id": "5cad349a",
   "metadata": {},
   "source": [
    "b) Qual o erro na sua estimativa?"
   ]
  },
  {
   "cell_type": "code",
   "execution_count": 32,
   "id": "55388acb",
   "metadata": {
    "vscode": {
     "languageId": "r"
    }
   },
   "outputs": [
    {
     "data": {
      "text/html": [
       "1.33943123784543"
      ],
      "text/latex": [
       "1.33943123784543"
      ],
      "text/markdown": [
       "1.33943123784543"
      ],
      "text/plain": [
       "[1] 1.339431"
      ]
     },
     "metadata": {},
     "output_type": "display_data"
    }
   ],
   "source": [
    "# Calculando a margem de erro:\n",
    "M.erro(alfa = 0.01, amostra = 100, dp = 5.2)"
   ]
  },
  {
   "cell_type": "markdown",
   "id": "7eb0eaad",
   "metadata": {},
   "source": [
    "c) A estimativa foi bastante boa. O pesquisador acha que poderia ter cometido um\n",
    "erro de até 3 mg/planta. Qual poderia ter sido o tamanho da amostra?"
   ]
  },
  {
   "cell_type": "markdown",
   "id": "701ab5cc",
   "metadata": {},
   "source": [
    "Para estimar o tamanho da amostra podemos usar:\n",
    "$$\n",
    "n = \\frac{\\sigma^2z^2}{e^2}\n",
    "$$"
   ]
  },
  {
   "cell_type": "markdown",
   "id": "aef217fc",
   "metadata": {},
   "source": [
    "3. Suponha os dados abaixo relacionados ao ganho de peso de 40 leitões selecionados\n",
    "de leitegadas de 5 porcas com tratamento obtido com desmame aos 3 dias de idade e\n",
    "aleitamento artificial até 28 dias."
   ]
  },
  {
   "cell_type": "markdown",
   "id": "52d82001",
   "metadata": {},
   "source": [
    "a) Estime o ganho de peso médio dos animais com 90% de confiança"
   ]
  },
  {
   "cell_type": "code",
   "execution_count": 1,
   "id": "de71ba37",
   "metadata": {
    "vscode": {
     "languageId": "r"
    }
   },
   "outputs": [],
   "source": [
    "# Dados\n",
    "a = c(1000,1500,2000,2500,3000,3500) # lado esquerdo dos intervalos\n",
    "b = c(1500,2000,2500,3000,3500,4000) # Lado direito dos intervalos\n",
    "f = c(2,5,12,17,3,1) # Frequências "
   ]
  },
  {
   "cell_type": "code",
   "execution_count": 2,
   "id": "d9b03ea5",
   "metadata": {
    "vscode": {
     "languageId": "r"
    }
   },
   "outputs": [],
   "source": [
    "# Função para calcular ponto médios dos intervalos\n",
    "ponto.medio <- function(a,b){\n",
    "    xi = (a+b)/2;return(xi)\n",
    "}"
   ]
  },
  {
   "cell_type": "code",
   "execution_count": null,
   "id": "36172895",
   "metadata": {
    "vscode": {
     "languageId": "r"
    }
   },
   "outputs": [],
   "source": [
    "# Função para calcular a média dos "
   ]
  },
  {
   "cell_type": "code",
   "execution_count": null,
   "id": "9aaaf465",
   "metadata": {
    "vscode": {
     "languageId": "r"
    }
   },
   "outputs": [],
   "source": []
  }
 ],
 "metadata": {
  "kernelspec": {
   "display_name": "R",
   "language": "R",
   "name": "ir"
  },
  "language_info": {
   "codemirror_mode": "r",
   "file_extension": ".r",
   "mimetype": "text/x-r-source",
   "name": "R",
   "pygments_lexer": "r",
   "version": "3.6.1"
  }
 },
 "nbformat": 4,
 "nbformat_minor": 5
}
