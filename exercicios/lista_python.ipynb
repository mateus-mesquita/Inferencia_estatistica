{
 "cells": [
  {
   "cell_type": "markdown",
   "id": "5e8cef57",
   "metadata": {},
   "source": [
    "1. Uma amostra de tamanho 100 forneceu peso médio da matéria seca da parte áerea\n",
    "(g) do mamoeiro em solo inoculado com fungos G. etunicatum e adubado com 20 mg/l\n",
    "de P2CO3 de 5,78 g com desvio padrão de 1,28 g."
   ]
  },
  {
   "cell_type": "markdown",
   "id": "5ea5a572",
   "metadata": {},
   "source": [
    "a) Estime o peso médio da matéria seca com 98% de confiança"
   ]
  },
  {
   "cell_type": "code",
   "execution_count": 28,
   "id": "ed94a405",
   "metadata": {},
   "outputs": [],
   "source": [
    "# importações necessárias\n",
    "from scipy.stats import norm # distribuição normal\n",
    "import math                  # funções matemáticas\n",
    "import numpy as np"
   ]
  },
  {
   "cell_type": "code",
   "execution_count": 20,
   "id": "e8c7f1b1",
   "metadata": {},
   "outputs": [],
   "source": [
    "# Função lambda para calcular erro padrão dado tamanho da amostra\n",
    "erro_padro = lambda amostra, dp: dp/math.sqrt(amostra)\n",
    "\n",
    "# Função para calcular intervalo de confiança usando a normal padrão\n",
    "def IC_normal(alpha = 0.05, media = False, amostra = False, dp = False):\n",
    "    a1 = 1 - alpha/2             # Quantil superior (ex: 0.99 para 98% de confiança)\n",
    "    a2 = 1 - a1                  # Quantil inferior (ex: 0.01)\n",
    "    ep = erro_padro(amostra,dp)\n",
    "    \n",
    "    limite_superior = norm.ppf(a1)  # Busca o valor z para o quantil superior\n",
    "    limite_inferior = norm.ppf(a2)  # Busca o valor z para o quantil inferior\n",
    "    \n",
    "    # Calcula o intervalo de confiança\n",
    "    resultado = [media + limite_inferior*ep, media + limite_superior*ep]\n",
    "    return resultado\n"
   ]
  },
  {
   "cell_type": "code",
   "execution_count": 21,
   "id": "201cc5f2",
   "metadata": {},
   "outputs": [
    {
     "data": {
      "text/plain": [
       "[5.482227472122773, 6.077772527877228]"
      ]
     },
     "execution_count": 21,
     "metadata": {},
     "output_type": "execute_result"
    }
   ],
   "source": [
    "# utilizando a função \n",
    "# média de 5,78 g\n",
    "# desvio padrão de 1,28\n",
    "# alfa de 2%\n",
    "\n",
    "IC_normal(0.02,5.78,100,1.28)\n"
   ]
  },
  {
   "cell_type": "markdown",
   "id": "49f1a4f0",
   "metadata": {},
   "source": [
    "b) Qual o valor do erro nas suas estimativas?\n"
   ]
  },
  {
   "cell_type": "code",
   "execution_count": 22,
   "id": "ad1252fa",
   "metadata": {},
   "outputs": [],
   "source": [
    "# Função para calcular o erro de estimativa:\n",
    "margem_de_erro = lambda edp,alfa:edp*norm.ppf(1-alfa/2)"
   ]
  },
  {
   "cell_type": "code",
   "execution_count": 23,
   "id": "21612a08",
   "metadata": {},
   "outputs": [
    {
     "data": {
      "text/plain": [
       "0.29777252787722763"
      ]
     },
     "execution_count": 23,
     "metadata": {},
     "output_type": "execute_result"
    }
   ],
   "source": [
    "# Calculando a margem de Erro\n",
    "margem_de_erro(erro_padro(100,1.28),0.02)"
   ]
  },
  {
   "cell_type": "markdown",
   "id": "7652f9ee",
   "metadata": {},
   "source": [
    "c) Suponha que o pesquisador deseje cometer um erro de apenas 0,20 g na estimativa\n",
    "com 95% de confiança no seu intervalo. De que tamanho deverá ser a nova amostra?"
   ]
  },
  {
   "cell_type": "code",
   "execution_count": 24,
   "id": "0696e2bc",
   "metadata": {},
   "outputs": [
    {
     "data": {
      "text/plain": [
       "0.25"
      ]
     },
     "execution_count": 24,
     "metadata": {},
     "output_type": "execute_result"
    }
   ],
   "source": [
    "# Margem de erro para uma amostra de tamanho 100 e uma confiança de 95%\n",
    "\n",
    "round(margem_de_erro(erro_padro(100,1.28),0.05),2) # arredondamento para duas casas decimais"
   ]
  },
  {
   "cell_type": "code",
   "execution_count": 25,
   "id": "3ad55f1c",
   "metadata": {},
   "outputs": [
    {
     "name": "stdout",
     "output_type": "stream",
     "text": [
      "Tamanho da amostra para um erro de 0,20 g é 150\n",
      "Margem de erro: 0.2\n"
     ]
    }
   ],
   "source": [
    "# buscando o tamanho da amostra para o problema usando loop\n",
    "\n",
    "i = 100  # Começa com um tamanho de amostra de 100\n",
    "while True:\n",
    "    # Calcula a margem de erro e compara com 0.20\n",
    "    if round(margem_de_erro(erro_padro(i,1.28),0.05),2) == 0.20:\n",
    "        # Se a margem de erro for 0.20, imprime o tamanho ideal da amostra\n",
    "        print(f\"Tamanho da amostra para um erro de 0,20 g é {i}\")\n",
    "        print(f\"Margem de erro: {round(margem_de_erro(erro_padro(i,1.28),0.05),2)}\")\n",
    "        break  # Interrompe o loop\n",
    "    else:\n",
    "        i += 1  # Se não for 0.20, aumenta o tamanho da amostra e tenta novamente"
   ]
  },
  {
   "cell_type": "markdown",
   "id": "b01157bf",
   "metadata": {},
   "source": [
    "2) Analisou-se amostras da matéria seca do tomateiro para estimar o conteúdo médio\n",
    "de P quando utilizado 30 mg/kg de P na adubação da planta. Obteve-se na análise de\n",
    "100 amostras, teor médio de 18,4 mg/planta com desvio padrão de 5,2mg/planta.\n"
   ]
  },
  {
   "cell_type": "markdown",
   "id": "e444ee38",
   "metadata": {},
   "source": [
    "a) Qual o teor médio estimado para a matéria seca do tomateiro neste caso? α = 1%."
   ]
  },
  {
   "cell_type": "code",
   "execution_count": 26,
   "id": "e3f4d71d",
   "metadata": {},
   "outputs": [
    {
     "data": {
      "text/plain": [
       "[17.06056876215457, 19.739431237845427]"
      ]
     },
     "execution_count": 26,
     "metadata": {},
     "output_type": "execute_result"
    }
   ],
   "source": [
    "# Média = 18,4\n",
    "# n = 100\n",
    "# dp = 5,2\n",
    "\n",
    "# Chamando função para calcular o intervalo de confiança 99%\n",
    "IC_normal(0.01,18.4,100,5.2)"
   ]
  },
  {
   "cell_type": "markdown",
   "id": "18e67639",
   "metadata": {},
   "source": [
    "b) Qual o erro na sua estimativa?"
   ]
  },
  {
   "cell_type": "code",
   "execution_count": null,
   "id": "53b254ff",
   "metadata": {},
   "outputs": [
    {
     "data": {
      "text/plain": [
       "1.3394312378454283"
      ]
     },
     "execution_count": 27,
     "metadata": {},
     "output_type": "execute_result"
    }
   ],
   "source": [
    "# Calculando o erro na estimativa\n",
    "margem_de_erro(erro_padro(100,5.2),0.01)"
   ]
  },
  {
   "cell_type": "markdown",
   "id": "7b067282",
   "metadata": {},
   "source": [
    "c) A estimativa foi bastante boa. O pesquisador acha que poderia ter cometido um\n",
    "erro de até 3 mg/planta. Qual poderia ter sido o tamanho da amostra?\n"
   ]
  },
  {
   "cell_type": "code",
   "execution_count": 48,
   "id": "6b1bf614",
   "metadata": {},
   "outputs": [
    {
     "data": {
      "text/plain": [
       "1993"
      ]
     },
     "execution_count": 48,
     "metadata": {},
     "output_type": "execute_result"
    }
   ],
   "source": [
    "# Função de selecionar o tamanho da amostra\n",
    "def amostragem(alfa = 0.05, dp = float, erro = float):\n",
    "    n = (dp**2*round(norm.ppf(1-alfa/2)**2,3))/erro**2\n",
    "    return n\n",
    "\n",
    "# executando a função\n",
    "round(amostragem(0.01,5.2,0.3))"
   ]
  },
  {
   "cell_type": "code",
   "execution_count": 50,
   "id": "f22941df",
   "metadata": {},
   "outputs": [
    {
     "data": {
      "text/plain": [
       "0.015697230655311502"
      ]
     },
     "execution_count": 50,
     "metadata": {},
     "output_type": "execute_result"
    }
   ],
   "source": [
    "margem_de_erro(0.01,erro_padro(1993,5.2))"
   ]
  },
  {
   "cell_type": "code",
   "execution_count": 47,
   "id": "23db12cd",
   "metadata": {},
   "outputs": [
    {
     "data": {
      "text/plain": [
       "29.12"
      ]
     },
     "execution_count": 47,
     "metadata": {},
     "output_type": "execute_result"
    }
   ],
   "source": [
    "amostragem(0.5,4,0.5)"
   ]
  },
  {
   "cell_type": "code",
   "execution_count": 43,
   "id": "05953487",
   "metadata": {},
   "outputs": [
    {
     "data": {
      "text/plain": [
       "1.96"
      ]
     },
     "execution_count": 43,
     "metadata": {},
     "output_type": "execute_result"
    }
   ],
   "source": [
    "round(norm.ppf(1-0.05/2),3)"
   ]
  },
  {
   "cell_type": "code",
   "execution_count": null,
   "id": "79a5daeb",
   "metadata": {},
   "outputs": [],
   "source": []
  }
 ],
 "metadata": {
  "kernelspec": {
   "display_name": "base",
   "language": "python",
   "name": "python3"
  },
  "language_info": {
   "codemirror_mode": {
    "name": "ipython",
    "version": 3
   },
   "file_extension": ".py",
   "mimetype": "text/x-python",
   "name": "python",
   "nbconvert_exporter": "python",
   "pygments_lexer": "ipython3",
   "version": "3.12.7"
  }
 },
 "nbformat": 4,
 "nbformat_minor": 5
}
