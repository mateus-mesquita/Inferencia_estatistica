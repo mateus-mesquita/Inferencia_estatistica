{
 "cells": [
  {
   "cell_type": "markdown",
   "id": "d0b3a9bd",
   "metadata": {},
   "source": [
    "#### Intervalos de confinça"
   ]
  },
  {
   "cell_type": "markdown",
   "id": "a45916e1",
   "metadata": {},
   "source": [
    "- introdução:"
   ]
  },
  {
   "cell_type": "markdown",
   "id": "398368d3",
   "metadata": {},
   "source": [
    "Exemplo 1:\n",
    "\n",
    "Intervalo de confiança para distribuição Normal com variância desconhecida"
   ]
  },
  {
   "cell_type": "markdown",
   "id": "89145861",
   "metadata": {},
   "source": [
    "1) O tempo de reação de um novo medicamento pode ser considerado como tendo distribuição Normal e deseja-se fazer inferência sobre a média que é desconhecida obtendo um intervalo de confiança. Vinte pacientes foram sorteados e tiveram seu tempo de reação anotado. Os dados foram os seguintes (em minutos):\n"
   ]
  },
  {
   "cell_type": "markdown",
   "id": "59e6b712",
   "metadata": {},
   "source": [
    "\n",
    "| 2.9 | 3.4 | 3.5 | 4.1 | 4.6 | 4.7 | 4.5 | 3.8 | 5.3 | 4.9 |\n",
    "|-----|-----|-----|-----|-----|-----|-----|-----|-----|-----|\n",
    "| 4.8 | 5.7 | 5.8 | 5.0 | 3.4 | 5.9 | 6.3 | 4.6 | 5.5 | 6.2 |"
   ]
  },
  {
   "cell_type": "code",
   "execution_count": 33,
   "id": "379fb35a",
   "metadata": {},
   "outputs": [],
   "source": [
    "# Dados da tebela\n",
    "valores = [\n",
    "    2.9, 3.4, 3.5, 4.1, 4.6, 4.7, 4.5, 3.8, 5.3, 4.9,\n",
    "    4.8, 5.7, 5.8, 5.0, 3.4, 5.9, 6.3, 4.6, 5.5, 6.2\n",
    "]\n"
   ]
  },
  {
   "cell_type": "markdown",
   "id": "60c848b9",
   "metadata": {},
   "source": [
    "Sabemos que o intervalo de confiança para normal com a variância desconhecida é dado por:\n",
    "\n",
    "$$\n",
    "(\\bar{x}-T_{t}\\sqrt{\\frac{S^2}{n}};\\bar{x}+T_{t}\\sqrt{\\frac{S^2}{n}})\n",
    "$$"
   ]
  },
  {
   "cell_type": "markdown",
   "id": "831db318",
   "metadata": {},
   "source": [
    "onde tt é o quantil de ordem 1 - α∕2 da distribuição t de Student, com n - 1 graus de liberdade."
   ]
  },
  {
   "cell_type": "code",
   "execution_count": 34,
   "id": "8b82fc22",
   "metadata": {},
   "outputs": [],
   "source": [
    "# Importando bibliotecas necessárias\n",
    "from scipy.stats import t                  # Distribuição t de Student para calcular os quantis\n",
    "import statistics as est                   # Biblioteca para média e variância\n",
    "import math                                # Biblioteca matemática para raiz quadrada\n",
    "\n",
    "# Função para calcular o intervalo de confiança usando distribuição t de Student\n",
    "def IC_t(X = None, conf = 0.95):\n",
    "    n = len(X)                             # Tamanho da amostra\n",
    "    media = est.mean(X)                    # Média da amostra\n",
    "    variancia = est.variance(X)            # Variância amostral (corrigida por padrão)\n",
    "    \n",
    "    # Cálculo dos quantis da t de Student (inferior e superior)\n",
    "    quantis = [\n",
    "        t.ppf((1 - conf)/2, df = n - 1),           # Quantil inferior\n",
    "        t.ppf((1 - (1 - conf)/2), df = n - 1)      # Quantil superior\n",
    "    ]\n",
    "    \n",
    "    # Cálculo do intervalo de confiança\n",
    "    # fórmula: média ± t * (desvio padrão / √n)\n",
    "    ic = (\n",
    "        round(media + quantis[0]*math.sqrt(variancia/n), 6),   # Limite inferior\n",
    "        round(media + quantis[1]*math.sqrt(variancia/n), 6)    # Limite superior\n",
    "    )\n",
    "    \n",
    "    return ic  # Retorna o intervalo de confiança como uma tupla\n",
    "\n"
   ]
  },
  {
   "cell_type": "code",
   "execution_count": 38,
   "id": "10e8cf86",
   "metadata": {},
   "outputs": [
    {
     "data": {
      "text/plain": [
       "(4.278843, 5.211157)"
      ]
     },
     "execution_count": 38,
     "metadata": {},
     "output_type": "execute_result"
    }
   ],
   "source": [
    "# intervalo de confiança padrão(95%):\n",
    "IC_t(valores)"
   ]
  },
  {
   "cell_type": "code",
   "execution_count": 39,
   "id": "e85b0b2d",
   "metadata": {},
   "outputs": [
    {
     "data": {
      "text/plain": [
       "(4.107814, 5.382186)"
      ]
     },
     "execution_count": 39,
     "metadata": {},
     "output_type": "execute_result"
    }
   ],
   "source": [
    "# intervalo de confiança de 99%\n",
    "IC_t(valores, 0.99)"
   ]
  },
  {
   "cell_type": "markdown",
   "id": "697e24f7",
   "metadata": {},
   "source": [
    "### Intervalos de confiança e função de verossimilhaça"
   ]
  },
  {
   "cell_type": "markdown",
   "id": "01d04929",
   "metadata": {},
   "source": [
    "Os dados abaixo são uma amostra aleatória da distribuição Bernoulli(p)."
   ]
  },
  {
   "cell_type": "markdown",
   "id": "dbd86d7b",
   "metadata": {},
   "source": [
    "0 0 0 1 1 0 1 1 1 1 0 1 1 0 1 1 1 1 0 1 1 1 1 1 1"
   ]
  },
  {
   "cell_type": "markdown",
   "metadata": {},
   "source": [
    "a) o gráfico da função de verossimilhança para p com base nestes dados"
   ]
  },
  {
   "cell_type": "code",
   "execution_count": 43,
   "id": "993dffbd",
   "metadata": {},
   "outputs": [],
   "source": [
    "# dados \n",
    "amostra_bernoulli = (0, 0, 0, 1, 1, 0, 1, 1, 1, 1, 0, 1, 1, 0, 1, 1, 1, 1, 0, 1, 1, 1, 1, 1, 1)"
   ]
  },
  {
   "cell_type": "code",
   "execution_count": 117,
   "metadata": {},
   "outputs": [],
   "source": [
    "# Importando bibliotecas\n",
    "import matplotlib.pyplot as plt           # Para geração de gráficos\n",
    "from scipy.stats import binom             # Distribuição binomial\n",
    "import numpy as np                        # Para manipulação de arrays e números\n",
    "\n",
    "# Função auxiliar que retorna uma lista de 1 até a soma dos dados - 1 (pouco útil nesse caso)\n",
    "def Contador(dados):\n",
    "    return [i for i in range(1, sum(dados))]  # Retorna uma sequência de inteiros\n",
    "\n",
    "# Função para construir o gráfico de verossimilhança da distribuição binomial\n",
    "def plot(dados):\n",
    "    p_vals = np.arange(0, 1, 0.01, dtype=float)  # Sequência de valores de p de 0 a 1 com passo de 0.01\n",
    "    resultados = []                              # Lista para armazenar os log-verossimilhanças\n",
    "\n",
    "    for p in p_vals:\n",
    "        # Calcula a log-verossimilhança para cada valor de p com base nos dados\n",
    "        resultados.append(binom.logpmf(sum(dados), len(dados), p))\n",
    "\n",
    "    # Plota o gráfico da função de log-verossimilhança\n",
    "    plt.plot(p_vals, resultados)\n",
    "    plt.xlabel(\"p (probabilidade de sucesso)\")\n",
    "    plt.ylabel(\"Log-Verossimilhança\")\n",
    "    plt.title(\"Gráfico de Verossimilhança - Distribuição Binomial\")\n",
    "    plt.grid(True)\n",
    "    plt.show()\n"
   ]
  },
  {
   "cell_type": "code",
   "execution_count": 118,
   "id": "463ec82d",
   "metadata": {},
   "outputs": [
    {
     "data": {
      "image/png": "[encoded data removed]",
      "text/plain": [
       "<Figure size 640x480 with 1 Axes>"
      ]
     },
     "metadata": {},
     "output_type": "display_data"
    }
   ],
   "source": [
    "plot(amostra_bernoulli)"
   ]
  },
  {
   "cell_type": "markdown",
   "id": "393f262a",
   "metadata": {},
   "source": [
    "Intervalo de confinça para média:\n",
    "\n",
    "\n",
    "$\n",
    "P(\\bar{X} - 1,96\\sigma_{\\bar{X}} \\leq \\mu \\leq \\bar{X} + 1,96\\sigma_{\\bar{X}}) = 0,95\n",
    "$"
   ]
  },
  {
   "cell_type": "markdown",
   "id": "9a25b0b0",
   "metadata": {},
   "source": [
    "Exemplo 11.13. Uma máquina enche pacotes de café com uma variância igual a 100 $g^2$. Ela estava regulada para \n",
    "encher os pacotes com 500 g, em média. Agora, ela se desregulou, e queremos saber qual a nova média $\\mu$.\n",
    "Uma amostra de 25 pacotes apresentou uma média igual a 485 g. Vamos construir um intervalo de confiança "
   ]
  },
  {
   "cell_type": "markdown",
   "id": "de6db464",
   "metadata": {},
   "source": [
    "$IC(\\mu;0,95) = 485 \\bar{+} 1,96*2$"
   ]
  },
  {
   "cell_type": "markdown",
   "id": "f3e92ddb",
   "metadata": {},
   "source": [
    "temos que $\\sigma_{\\bar{X}}$ = $\\sigma/\\sqrt{n} = 10/5 = 2g$"
   ]
  },
  {
   "cell_type": "code",
   "execution_count": 36,
   "id": "af8e04cd",
   "metadata": {},
   "outputs": [],
   "source": [
    "# construindo função:\n",
    "import math\n",
    "\n",
    "def IC(media,n,varianca):\n",
    "    e = math.sqrt(varianca)/math.sqrt(n)\n",
    "    Limite_inferior = media - 1.96*e\n",
    "    Limite_superior = media + 1.96*e\n",
    "    return (Limite_inferior,Limite_superior)"
   ]
  },
  {
   "cell_type": "code",
   "execution_count": 37,
   "id": "4441b634",
   "metadata": {},
   "outputs": [
    {
     "data": {
      "text/plain": [
       "(481.08, 488.92)"
      ]
     },
     "execution_count": 37,
     "metadata": {},
     "output_type": "execute_result"
    }
   ],
   "source": [
    "IC(485,25,100)"
   ]
  },
  {
   "cell_type": "code",
   "execution_count": null,
   "id": "94a2908f",
   "metadata": {},
   "outputs": [],
   "source": []
  }
 ],
 "metadata": {
  "kernelspec": {
   "display_name": "base",
   "language": "python",
   "name": "python3"
  },
  "language_info": {
   "codemirror_mode": {
    "name": "ipython",
    "version": 3
   },
   "file_extension": ".py",
   "mimetype": "text/x-python",
   "name": "python",
   "nbconvert_exporter": "python",
   "pygments_lexer": "ipython3",
   "version": "3.12.7"
  }
 },
 "nbformat": 4,
 "nbformat_minor": 5
}
