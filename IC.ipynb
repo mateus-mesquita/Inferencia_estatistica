{
 "cells": [
  {
   "cell_type": "markdown",
   "id": "d0b3a9bd",
   "metadata": {},
   "source": [
    "## Intervalos de confiança"
   ]
  },
  {
   "cell_type": "markdown",
   "id": "a45916e1",
   "metadata": {},
   "source": [
    "- introdução:"
   ]
  },
  {
   "cell_type": "markdown",
   "id": "398368d3",
   "metadata": {},
   "source": [
    "Exemplo 1:\n",
    "\n",
    "Intervalo de confiança para distribuição Normal com variância desconhecida"
   ]
  },
  {
   "cell_type": "markdown",
   "id": "89145861",
   "metadata": {},
   "source": [
    "1) O tempo de reação de um novo medicamento pode ser considerado como tendo distribuição Normal e deseja-se fazer inferência sobre a média que é desconhecida obtendo um intervalo de confiança. Vinte pacientes foram sorteados e tiveram seu tempo de reação anotado. Os dados foram os seguintes (em minutos):\n"
   ]
  },
  {
   "cell_type": "markdown",
   "id": "59e6b712",
   "metadata": {},
   "source": [
    "\n",
    "| 2.9 | 3.4 | 3.5 | 4.1 | 4.6 | 4.7 | 4.5 | 3.8 | 5.3 | 4.9 |\n",
    "|-----|-----|-----|-----|-----|-----|-----|-----|-----|-----|\n",
    "| 4.8 | 5.7 | 5.8 | 5.0 | 3.4 | 5.9 | 6.3 | 4.6 | 5.5 | 6.2 |"
   ]
  },
  {
   "cell_type": "code",
   "execution_count": 3,
   "id": "379fb35a",
   "metadata": {},
   "outputs": [],
   "source": [
    "# Dados da tebela\n",
    "valores = [\n",
    "    2.9, 3.4, 3.5, 4.1, 4.6, 4.7, 4.5, 3.8, 5.3, 4.9,\n",
    "    4.8, 5.7, 5.8, 5.0, 3.4, 5.9, 6.3, 4.6, 5.5, 6.2\n",
    "]\n"
   ]
  },
  {
   "cell_type": "markdown",
   "id": "60c848b9",
   "metadata": {},
   "source": [
    "Sabemos que o intervalo de confiança para normal com a variância desconhecida é dado por:\n",
    "\n",
    "$$\n",
    "(\\bar{x}-T_{t}\\sqrt{\\frac{S^2}{n}};\\bar{x}+T_{t}\\sqrt{\\frac{S^2}{n}})\n",
    "$$"
   ]
  },
  {
   "cell_type": "markdown",
   "id": "831db318",
   "metadata": {},
   "source": [
    "onde tt é o quantil de ordem 1 - α∕2 da distribuição t de Student, com n - 1 graus de liberdade."
   ]
  },
  {
   "cell_type": "code",
   "execution_count": 4,
   "id": "8b82fc22",
   "metadata": {},
   "outputs": [],
   "source": [
    "# Importando bibliotecas necessárias\n",
    "from scipy.stats import t                  # Distribuição t de Student para calcular os quantis\n",
    "import statistics as est                   # Biblioteca para média e variância\n",
    "import math                                # Biblioteca matemática para raiz quadrada\n",
    "\n",
    "# Função para calcular o intervalo de confiança usando distribuição t de Student\n",
    "def IC_t(X = None, conf = 0.95):\n",
    "    n = len(X)                             # Tamanho da amostra\n",
    "    media = est.mean(X)                    # Média da amostra\n",
    "    variancia = est.variance(X)            # Variância amostral (corrigida por padrão)\n",
    "    \n",
    "    # Cálculo dos quantis da t de Student (inferior e superior)\n",
    "    quantis = [\n",
    "        t.ppf((1 - conf)/2, df = n - 1),           # Quantil inferior\n",
    "        t.ppf((1 - (1 - conf)/2), df = n - 1)      # Quantil superior\n",
    "    ]\n",
    "    \n",
    "    # Cálculo do intervalo de confiança\n",
    "    # fórmula: média ± t * (desvio padrão / √n)\n",
    "    ic = (\n",
    "        round(media + quantis[0]*math.sqrt(variancia/n), 6),   # Limite inferior\n",
    "        round(media + quantis[1]*math.sqrt(variancia/n), 6)    # Limite superior\n",
    "    )\n",
    "    \n",
    "    return ic  # Retorna o intervalo de confiança como uma tupla\n",
    "\n"
   ]
  },
  {
   "cell_type": "code",
   "execution_count": 5,
   "id": "10e8cf86",
   "metadata": {},
   "outputs": [
    {
     "data": {
      "text/plain": [
       "(4.278843, 5.211157)"
      ]
     },
     "execution_count": 5,
     "metadata": {},
     "output_type": "execute_result"
    }
   ],
   "source": [
    "# intervalo de confiança padrão(95%):\n",
    "IC_t(valores)"
   ]
  },
  {
   "cell_type": "code",
   "execution_count": 6,
   "id": "e85b0b2d",
   "metadata": {},
   "outputs": [
    {
     "data": {
      "text/plain": [
       "(4.107814, 5.382186)"
      ]
     },
     "execution_count": 6,
     "metadata": {},
     "output_type": "execute_result"
    }
   ],
   "source": [
    "# intervalo de confiança de 99%\n",
    "IC_t(valores, 0.99)"
   ]
  },
  {
   "cell_type": "markdown",
   "id": "697e24f7",
   "metadata": {},
   "source": [
    "## Intervalos de confiança e função de verossimilhaça"
   ]
  },
  {
   "cell_type": "markdown",
   "id": "93490b89",
   "metadata": {},
   "source": [
    "#### Inferência estatística para distribuição bernoulli"
   ]
  },
  {
   "cell_type": "markdown",
   "id": "01d04929",
   "metadata": {},
   "source": [
    "Os dados abaixo são uma amostra aleatória da distribuição Bernoulli(p)."
   ]
  },
  {
   "cell_type": "markdown",
   "id": "dbd86d7b",
   "metadata": {},
   "source": [
    "0 0 0 1 1 0 1 1 1 1 0 1 1 0 1 1 1 1 0 1 1 1 1 1 1"
   ]
  },
  {
   "cell_type": "markdown",
   "metadata": {},
   "source": [
    "a) o gráfico da função de verossimilhança para p com base nestes dados"
   ]
  },
  {
   "cell_type": "code",
   "execution_count": 7,
   "id": "993dffbd",
   "metadata": {},
   "outputs": [],
   "source": [
    "# dados \n",
    "amostra_bernoulli = (0, 0, 0, 1, 1, 0, 1, 1, 1, 1, 0, 1, 1, 0, 1, 1, 1, 1, 0, 1, 1, 1, 1, 1, 1)"
   ]
  },
  {
   "cell_type": "code",
   "execution_count": null,
   "metadata": {},
   "outputs": [],
   "source": [
    "# Importando bibliotecas\n",
    "import matplotlib.pyplot as plt           # Para geração de gráficos\n",
    "from scipy.stats import binom             # Distribuição binomial\n",
    "import numpy as np                        # Para manipulação de arrays e números\n",
    "import statistics as est                  # Para cálculo da média\n",
    "\n",
    "# Função auxiliar que retorna uma lista de 1 até a soma dos dados\n",
    "def Contador(dados):\n",
    "    return [i for i in range(1, sum(dados))]  # Retorna uma sequência de inteiros de 1 até a soma\n",
    "\n",
    "# Função para construir o gráfico de verossimilhança da distribuição binomial\n",
    "def plot(dados):\n",
    "    p_vals = np.arange(0, 1, 0.01, dtype=float)  # Sequência de valores de p de 0 a 1 com passo de 0.01\n",
    "    resultados = []                              # Lista para armazenar os log-verossimilhanças\n",
    "    p_estimador = est.mean(dados)                # Estimador da proporção de sucessos (média amostral)\n",
    "    \n",
    "    # Configuração da figura\n",
    "    fig, ax = plt.subplots(figsize=(8, 6))\n",
    "\n",
    "    for p in p_vals:\n",
    "        # Calcula a log-verossimilhança para cada valor de p com base nos dados\n",
    "        resultados.append(binom.logpmf(sum(dados), len(dados), p))\n",
    "\n",
    "    # Plota o gráfico da função de log-verossimilhança\n",
    "    ax.axvline(p_estimador, ls='--', color='r', label=f'$\\hat{{p}} = {p_estimador:.2f}$')  # Linha vertical na estimativa\n",
    "    plt.legend()                                           # Mostra legenda\n",
    "    plt.plot(p_vals, resultados)                           # Plota a curva\n",
    "    plt.xlabel(\"p (probabilidade de sucesso)\")             # Rótulo do eixo x\n",
    "    plt.ylabel(\"Log-Verossimilhança\")                      # Rótulo do eixo y\n",
    "    plt.title(\"Gráfico de Verossimilhança - Distribuição Binomial\")  # Título do gráfico\n",
    "    plt.grid(True)                                         # Ativa a grade\n",
    "    plt.show()                                             # Exibe o gráfico"
   ]
  },
  {
   "cell_type": "code",
   "execution_count": 9,
   "id": "463ec82d",
   "metadata": {},
   "outputs": [
    {
     "data": {
      "image/png": "[encoded data removed]",
      "text/plain": [
       "<Figure size 800x600 with 1 Axes>"
      ]
     },
     "metadata": {},
     "output_type": "display_data"
    }
   ],
   "source": [
    "plot(amostra_bernoulli)"
   ]
  },
  {
   "cell_type": "markdown",
   "id": "b639b16a",
   "metadata": {},
   "source": [
    "(b) o estimador de máxima verossimilhança de p, a informação observada e a informação de Fisher"
   ]
  },
  {
   "cell_type": "markdown",
   "id": "74256c5c",
   "metadata": {},
   "source": [
    "Dos resultados para distribuição Bernoulli sabemos que o estimador de máxima verossimilhança é dado por\n",
    "\n",
    "$\n",
    "T =\\frac{\\sum_{i = 1}^{n}y_{i}}{n}\n",
    "$\n",
    "\n",
    "e que a informação esperada coincide com a informação observada e sendo iguais a:\n",
    "\n",
    "$\n",
    "I(T) = \\frac{n}{T(1-T)}\n",
    "$"
   ]
  },
  {
   "cell_type": "code",
   "execution_count": 10,
   "id": "30b30424",
   "metadata": {},
   "outputs": [],
   "source": [
    "# Função para calcular o valor de n / (p * (1 - p)), usada para simplificar o desvio padrão da proporção\n",
    "def io(dados):\n",
    "    y = est.mean(dados)              # Calcula a proporção de sucessos (p̂)\n",
    "    return len(dados) / (y * (1 - y))  # Retorna n / (p̂ * (1 - p̂)), que é o inverso da variância do estimador"
   ]
  },
  {
   "cell_type": "code",
   "execution_count": 11,
   "id": "d77470ab",
   "metadata": {},
   "outputs": [
    {
     "data": {
      "text/plain": [
       "124.0079"
      ]
     },
     "execution_count": 11,
     "metadata": {},
     "output_type": "execute_result"
    }
   ],
   "source": [
    "round(io(amostra_bernoulli),4)"
   ]
  },
  {
   "cell_type": "markdown",
   "id": "eb403200",
   "metadata": {},
   "source": [
    "(c) um intervalo de confiança de 95% para p baseado na normalidade assintótica de T"
   ]
  },
  {
   "cell_type": "markdown",
   "id": "ec6c18d4",
   "metadata": {},
   "source": [
    "O intervalo de confiança baseado na normalidade assintótica do estimador de máxima verossimilhança é dado por:\n",
    "\n",
    "$$\n",
    "(T - z_{\\alpha/2}\\sqrt{I(T)}; T + z_{\\alpha/2}\\sqrt{I(T)})\n",
    "$$"
   ]
  },
  {
   "cell_type": "code",
   "execution_count": 12,
   "id": "1bf6cfa6",
   "metadata": {},
   "outputs": [],
   "source": [
    "from scipy.stats import norm      # Importa a normal padrão para obter quantis\n",
    "import statistics as est          # Importa funções estatísticas como média\n",
    "import math                       # Importa funções matemáticas\n",
    "\n",
    "# Função para construir intervalo de confiança para uma proporção binomial (método normal aproximado)\n",
    "def IC_binom_assintotico(dados = None, conf = 0.95):\n",
    "    # Obtém os quantis da normal padrão para o nível de confiança desejado\n",
    "    quantis = [norm.ppf((1-conf)/2), norm.ppf(1 - (1-conf)/2)]\n",
    "\n",
    "    # Calcula a proporção amostral (estimador de p)\n",
    "    p_estimador = est.mean(dados)\n",
    "\n",
    "    # Retorna o intervalo de confiança aproximado para p\n",
    "    return (\n",
    "        p_estimador + quantis[0] * math.sqrt(1 / io(dados)),  # Limite inferior\n",
    "        p_estimador + quantis[1] * math.sqrt(1 / io(dados))   # Limite superior\n",
    "    )\n"
   ]
  },
  {
   "cell_type": "code",
   "execution_count": 13,
   "id": "eaa9ea04",
   "metadata": {},
   "outputs": [
    {
     "data": {
      "text/plain": [
       "(0.5439956707064356, 0.8960043292935643)"
      ]
     },
     "execution_count": 13,
     "metadata": {},
     "output_type": "execute_result"
    }
   ],
   "source": [
    "IC_binom_assintotico(amostra_bernoulli)"
   ]
  },
  {
   "cell_type": "markdown",
   "id": "d68c9c54",
   "metadata": {},
   "source": [
    "(d) compare o intervalo obtido em (b) com um intervalo de confiança de 95% obtido com base na distribuição limite da função deviance\n"
   ]
  },
  {
   "cell_type": "markdown",
   "id": "24f716aa",
   "metadata": {},
   "source": [
    "Vamos agora obter e mostrar em um gráfico o intervalo baseado na função deviance. Lembrando que a deviance é definida pela expressão\n",
    "\n",
    "$$\n",
    "D(p) = 2\\{T - l(T)\\}\n",
    "$$"
   ]
  },
  {
   "cell_type": "code",
   "execution_count": 14,
   "id": "e32fd18e",
   "metadata": {},
   "outputs": [],
   "source": [
    "# Função para calcular a Deviância para a distribuição Binomial\n",
    "def DevBinomial(dados = None, p = None):\n",
    "    # Estimador da proporção de sucessos (média amostral)\n",
    "    p_estimador = sum(dados) / len(dados)\n",
    "    \n",
    "    # Calculando a log-verossimilhança do modelo ajustado com o estimador p_estimador\n",
    "    modelo_ajustado = binom.logpmf(sum(dados), len(dados), p_estimador)\n",
    "    \n",
    "    # Calculando a log-verossimilhança do modelo com a probabilidade fornecida p\n",
    "    modelo_log = binom.logpmf(sum(dados), len(dados), p)\n",
    "    \n",
    "    # Calculando a deviância como 2 vezes a diferença entre as log-verossimilhanças\n",
    "    dev = 2 * (modelo_ajustado - modelo_log)\n",
    "    \n",
    "    return dev  # Retorna a deviância"
   ]
  },
  {
   "cell_type": "code",
   "execution_count": 15,
   "id": "ee6c7a5e",
   "metadata": {},
   "outputs": [
    {
     "data": {
      "text/plain": [
       "(14.08763837967549, 14.139144555333957)"
      ]
     },
     "execution_count": 15,
     "metadata": {},
     "output_type": "execute_result"
    }
   ],
   "source": [
    "DevBinomial(amostra_bernoulli,p=0.3511),DevBinomial(amostra_bernoulli,p=0.95)"
   ]
  },
  {
   "cell_type": "code",
   "execution_count": 16,
   "id": "7db20096",
   "metadata": {},
   "outputs": [],
   "source": [
    "# importações\n",
    "from scipy.stats import chi2    # distribuição Qui-Quadrado\n",
    "from scipy.optimize import root_scalar\n",
    "\n",
    "# Função para calcular a função de limite de deviância\n",
    "def Lim(x, dados, q):\n",
    "    # Calcula a deviância para um valor x e verifica se ela é maior que o valor crítico da chi-quadrado\n",
    "    return DevBinomial(dados, x) - q\n",
    "\n",
    "# Função para calcular o intervalo de confiança com base na deviância\n",
    "def IC_dev(dados):\n",
    "    # Estimador de p, que é a média dos dados\n",
    "    p_estimador = sum(dados) / len(dados)\n",
    "    \n",
    "    # Calcula o limite inferior do intervalo de confiança utilizando o método de bisseção\n",
    "    inf = root_scalar(Lim, args=(dados, chi2.ppf(0.95, df=1)), bracket=[0, p_estimador], method='bisect').root\n",
    "    \n",
    "    # Calcula o limite superior do intervalo de confiança utilizando o método de bisseção\n",
    "    sup = root_scalar(Lim, args=(dados, chi2.ppf(0.95, df=1)), bracket=[p_estimador, 1], method='bisect').root\n",
    "    \n",
    "    # Retorna os limites inferior e superior do intervalo com 7 casas decimais\n",
    "    return round(inf, 7), round(sup, 7)\n"
   ]
  },
  {
   "cell_type": "code",
   "execution_count": 17,
   "id": "71dd8e4a",
   "metadata": {},
   "outputs": [],
   "source": [
    "def IC_Binom_plot(dados = None, inf = None, sup = None):\n",
    "    # Verifica se o intervalo está bem definido\n",
    "    if inf < sup:\n",
    "        # Linha de referência: quantil 95% da distribuição qui-quadrado com 1 grau de liberdade\n",
    "        linha = chi2.ppf(0.95, df=1)\n",
    "\n",
    "        # Gera 100 pontos entre inf e sup\n",
    "        x = np.linspace(inf, sup, 100)\n",
    "        y = []\n",
    "\n",
    "        # Calcula os valores da função DevBinomial para cada ponto de x\n",
    "        for i in x:\n",
    "            y.append(DevBinomial(dados, i))\n",
    "\n",
    "        # Cria a figura e os eixos para o gráfico\n",
    "        fig, ax = plt.subplots(figsize=(8,6))\n",
    "\n",
    "        # Linha horizontal indicando o valor crítico da qui-quadrado\n",
    "        ax.axhline(linha, ls='--', color='r')\n",
    "\n",
    "        # Linhas verticais indicando o intervalo de confiança da função de desvio\n",
    "        ax.axvline(IC_dev(dados)[0], ls='--', color='r', ymin=0, ymax=0.30)\n",
    "        ax.axvline(IC_dev(dados)[1], ls='--', color='r', ymin=0, ymax=0.30)\n",
    "\n",
    "        # Plota a curva y = DevBinomial(dados, x)\n",
    "        plt.plot(x, y)\n",
    "\n",
    "        # Adiciona grade no gráfico\n",
    "        plt.grid(True)\n",
    "\n",
    "        # Mostra o gráfico\n",
    "        plt.show()\n",
    "    else:\n",
    "        # Retorna mensagem de erro se o intervalo estiver invertido\n",
    "        return 'inf deve ser menor que sup'\n"
   ]
  },
  {
   "cell_type": "code",
   "execution_count": 18,
   "id": "8d55e982",
   "metadata": {},
   "outputs": [
    {
     "data": {
      "text/plain": [
       "(0.5283499, 0.8686704)"
      ]
     },
     "execution_count": 18,
     "metadata": {},
     "output_type": "execute_result"
    }
   ],
   "source": [
    "IC_dev(amostra_bernoulli)"
   ]
  },
  {
   "cell_type": "code",
   "execution_count": 19,
   "id": "05557140",
   "metadata": {},
   "outputs": [
    {
     "data": {
      "image/png": "[encoded data removed]",
      "text/plain": [
       "<Figure size 800x600 with 1 Axes>"
      ]
     },
     "metadata": {},
     "output_type": "display_data"
    }
   ],
   "source": [
    "IC_Binom_plot(amostra_bernoulli,0.35,0.95)"
   ]
  },
  {
   "cell_type": "code",
   "execution_count": 20,
   "id": "9c538e37",
   "metadata": {},
   "outputs": [],
   "source": [
    "# Criando uma função geral para determinar o intervalo de confiança\n",
    "def IC_Binom(dados = None, tipo = \"assintotico\", nivel = 0.95):\n",
    "\n",
    "    # Se o tipo for \"assintotico\", chama a função que calcula IC pelo método assintótico\n",
    "    if tipo.lower() == \"assintotico\":\n",
    "        return IC_binom_assintotico(dados, nivel)\n",
    "\n",
    "    # Se o tipo for \"deviance\", chama a função que calcula IC via desvio (dev)\n",
    "    elif tipo.lower() == \"deviance\":\n",
    "        return IC_dev(dados)"
   ]
  },
  {
   "cell_type": "code",
   "execution_count": 21,
   "id": "f53ba91f",
   "metadata": {},
   "outputs": [
    {
     "data": {
      "text/plain": [
       "(0.5439956707064356, 0.8960043292935643)"
      ]
     },
     "execution_count": 21,
     "metadata": {},
     "output_type": "execute_result"
    }
   ],
   "source": [
    "# método assintotico\n",
    "IC_Binom(amostra_bernoulli)"
   ]
  },
  {
   "cell_type": "code",
   "execution_count": 22,
   "metadata": {},
   "outputs": [
    {
     "data": {
      "text/plain": [
       "(0.5283499, 0.8686704)"
      ]
     },
     "execution_count": 22,
     "metadata": {},
     "output_type": "execute_result"
    }
   ],
   "source": [
    "# método deviance\n",
    "IC_Binom(amostra_bernoulli,tipo = \"deviance\")"
   ]
  },
  {
   "cell_type": "markdown",
   "id": "1c405ba1",
   "metadata": {},
   "source": [
    "e) intervalo de cobertura"
   ]
  },
  {
   "cell_type": "markdown",
   "id": "9295fcfe",
   "metadata": {},
   "source": [
    "O cálculo do intervalo de cobertura consiste em:\n",
    "\n",
    "1. simular dados com o valor especificado do parâmetro;\n",
    "2. obter o intervalo de confiança;\n",
    "3. verificar se o valor está dentro do intervalo\n",
    "4. repetir (1) a (3) e verificar a proporção de simulações onde o valor está no intervalo."
   ]
  }
 ],
 "metadata": {
  "kernelspec": {
   "display_name": "base",
   "language": "python",
   "name": "python3"
  },
  "language_info": {
   "codemirror_mode": {
    "name": "ipython",
    "version": 3
   },
   "file_extension": ".py",
   "mimetype": "text/x-python",
   "name": "python",
   "nbconvert_exporter": "python",
   "pygments_lexer": "ipython3",
   "version": "3.12.7"
  }
 },
 "nbformat": 4,
 "nbformat_minor": 5
}
